{
 "cells": [
  {
   "cell_type": "code",
   "execution_count": 1,
   "id": "0a1da87e",
   "metadata": {},
   "outputs": [
    {
     "name": "stdout",
     "output_type": "stream",
     "text": [
      "Populating the interactive namespace from numpy and matplotlib\n"
     ]
    },
    {
     "data": {
      "text/plain": [
       "'1.3.3'"
      ]
     },
     "execution_count": 1,
     "metadata": {},
     "output_type": "execute_result"
    }
   ],
   "source": [
    "%pylab inline\n",
    "\n",
    "from datetime import datetime, timedelta\n",
    "import astropy\n",
    "import calendar\n",
    "from astropy.time import Time,TimezoneInfo,TimeDelta\n",
    "from astropy import units as u\n",
    "from astropy import coordinates as co\n",
    "import pandas as pd\n",
    "import numpy as np\n",
    "import pylab as pl\n",
    "from astroplan import Observer, FixedTarget, is_observable, is_always_observable, months_observable, observability_table\n",
    "from astroplan import (AltitudeConstraint, AirmassConstraint,\n",
    "                       AtNightConstraint)\n",
    "\n",
    "\n",
    "np.random.seed(2)\n",
    "pd.__version__"
   ]
  },
  {
   "cell_type": "code",
   "execution_count": 2,
   "id": "3ec431b2",
   "metadata": {},
   "outputs": [],
   "source": [
    "nnights = 365\n",
    "max_obs = 60\n",
    "target = FixedTarget.from_name('HD155060')\n",
    "t = Time('2021-02-2') + arange(nnights) * u.day # UT date\n",
    "df = pd.DataFrame(dict(utdate=t.to_value('iso','date')))\n",
    "keck = Observer.at_site(\"Keck\", timezone=\"US/Hawaii\")\n",
    "sunset = keck.sun_set_time(t,horizon=-12*u.deg,which='next')\n",
    "sunrise =  keck.sun_rise_time(t,horizon=-12*u.deg, which='next')\n",
    "moonrise = keck.moon_rise_time(t,horizon=0*u.deg, which='next')\n",
    "nightlength = (sunrise - sunset)\n",
    "constraints = [AltitudeConstraint(20*u.deg, 85*u.deg)]"
   ]
  },
  {
   "cell_type": "code",
   "execution_count": 3,
   "id": "33b8f3ae",
   "metadata": {},
   "outputs": [],
   "source": [
    "savecols = 'utdate quarter start stop start_jd stop_jd kpfcc dark'.split()"
   ]
  },
  {
   "cell_type": "code",
   "execution_count": 4,
   "id": "61192c88",
   "metadata": {},
   "outputs": [
    {
     "name": "stdout",
     "output_type": "stream",
     "text": [
      "1012/1460 quarters remain after dropping dark all, early, late\n",
      "362/1460 quarters are KPF-CC\n",
      "272/365 nights KPF-CC onsky\n"
     ]
    }
   ],
   "source": [
    "df2 = []\n",
    "for i in range(1,5):\n",
    "    df = pd.DataFrame(dict(utdate=t.to_value('iso','date')))\n",
    "    df = pd.DataFrame(dict(utdate=Time(t.to_datetime(timezone=keck.timezone)).to_value('iso','date')))\n",
    "    df['quarter'] = i\n",
    "    start = sunset + (i-1) / 4.0 * nightlength\n",
    "    stop = sunset +  i / 4.0 * nightlength\n",
    "    df['nightlength'] = nightlength.value\n",
    "    df['start_jd'] =  start.jd\n",
    "    df['stop_jd'] = stop.jd\n",
    "    df['start'] = pd.Series(start.to_value('iso','date_hm')).str.slice(start=11,stop=16)\n",
    "    df['stop'] = pd.Series(stop.to_value('iso','date_hm')).str.slice(start=11,stop=16)\n",
    "    df['month'] = start.ymdhms['month']\n",
    "    df['moon_alt_start'] = keck.moon_altaz(start).alt.deg\n",
    "    df['moon_alt_stop'] = keck.moon_altaz(stop).alt.deg\n",
    "    df2.append(df)\n",
    "\n",
    "df = pd.concat(df2)\n",
    "df = df.sort_values(by=['start_jd'])\n",
    "df = df.reset_index(drop=True)\n",
    "df['kpfcc'] = False\n",
    "df['dark'] = (df.moon_alt_start < 0) & (df.moon_alt_stop < 0)\n",
    "\n",
    "dark_early = df[df.quarter.isin([1,2])].groupby('utdate').filter(lambda x: x['dark'].sum()==2)\n",
    "dark_late = df[df.quarter.isin([3,4])].groupby('utdate').filter(lambda x: x['dark'].sum()==2)\n",
    "dark_all = df.groupby('utdate').filter(lambda x: x['dark'].sum()==4)\n",
    "\n",
    "\n",
    "dfrem = df.copy()\n",
    "rs = 0 \n",
    "nstart_quarters = len(df)\n",
    "nkpfcc_quarters = 365 \n",
    "ndark_quarters = 365 # remove this many quarters for darktime\n",
    "\n",
    "\n",
    "dfrem = dfrem.drop(dark_all.index,errors='ignore')\n",
    "dfrem = dfrem.drop(dark_early.index,errors='ignore')\n",
    "dfrem = dfrem.drop(dark_late.index,errors='ignore')\n",
    "\n",
    "print(\"{}/{} quarters remain after dropping dark all, early, late\".format(len(dfrem),nstart_quarters))\n",
    "\n",
    "# schedule 1/8 of nights are first half\n",
    "\n",
    "for i in range(4):\n",
    "    if i==0:\n",
    "        # schedule 1/8 of nights as Q1+Q2\n",
    "        nnights_select = int(0.125 * nkpfcc_quarters)\n",
    "        dates = dfrem.utdate.drop_duplicates().sample(nnights_select,random_state=rs)\n",
    "        df.loc[df.utdate.isin(dates) & (df.quarter.isin([1,2])),'kpfcc'] = True\n",
    "\n",
    "    if i==1:\n",
    "        # schedule 1/8 of nights as Q3+Q4\n",
    "        nnights_select = int(0.125 * nkpfcc_quarters)\n",
    "        dates = dfrem.utdate.drop_duplicates().sample(nnights_select,random_state=rs)\n",
    "        df.loc[df.utdate.isin(dates) & df.quarter.isin([3,4]),'kpfcc'] = True\n",
    "\n",
    "    if i==2:\n",
    "        # schedule 1/5 of nights as Q1 \n",
    "        nnights_select = int(0.25 * nkpfcc_quarters)\n",
    "        dates = dfrem.utdate.drop_duplicates().sample(nnights_select,random_state=rs)\n",
    "        df.loc[df.utdate.isin(dates) & df.quarter.isin([1]),'kpfcc'] = True\n",
    "\n",
    "    if i==3:\n",
    "        # schedule 1/4 of nights as Q4\n",
    "        nnights_select = int(0.25 * nkpfcc_quarters)\n",
    "        dates = dfrem.utdate.drop_duplicates().sample(nnights_select,random_state=rs)\n",
    "        df.loc[df.utdate.isin(dates) & df.quarter.isin([4]),'kpfcc'] = True\n",
    "\n",
    "    dfrem = dfrem[~dfrem.utdate.isin(dates)]\n",
    "    \n",
    "\n",
    "print(\"{}/{} quarters are KPF-CC\".format(df.kpfcc.sum(),nstart_quarters))\n",
    "print(\"{}/{} nights KPF-CC onsky\".format((df.groupby('utdate')['kpfcc'].sum()>0).sum(),nnights))\n",
    "\n",
    "# df[savecols].to_csv('kpfcc_schedule_v2.csv')"
   ]
  },
  {
   "cell_type": "code",
   "execution_count": 5,
   "id": "7af581db",
   "metadata": {},
   "outputs": [
    {
     "name": "stderr",
     "output_type": "stream",
     "text": [
      "/Users/bfulton/anaconda3/lib/python3.8/site-packages/xarray/plot/plot.py:1451: FutureWarning: Conversion of the second argument of issubdtype from `str` to `str` is deprecated. In future, it will be treated as `np.str_ == np.dtype(str).type`.\n",
      "  and not np.issubdtype(x.dtype, str)\n",
      "/Users/bfulton/anaconda3/lib/python3.8/site-packages/xarray/plot/plot.py:1466: FutureWarning: Conversion of the second argument of issubdtype from `str` to `str` is deprecated. In future, it will be treated as `np.str_ == np.dtype(str).type`.\n",
      "  and not np.issubdtype(y.dtype, str)\n"
     ]
    },
    {
     "data": {
      "text/plain": [
       "<matplotlib.collections.QuadMesh at 0x7f93786f63d0>"
      ]
     },
     "execution_count": 5,
     "metadata": {},
     "output_type": "execute_result"
    },
    {
     "data": {
      "image/png": "[encoded data removed]",
      "text/plain": [
       "<Figure size 720x1440 with 2 Axes>"
      ]
     },
     "metadata": {
      "needs_background": "light"
     },
     "output_type": "display_data"
    }
   ],
   "source": [
    "da = df.groupby(['utdate','quarter'])['kpfcc'].first().to_xarray()\n",
    "da.coords['utdate'] = Time(list(array(da.utdate))).datetime\n",
    "da.sortby(da.utdate,ascending=False).plot.pcolormesh(figsize=(10,20))"
   ]
  },
  {
   "cell_type": "code",
   "execution_count": 6,
   "id": "f5415c65",
   "metadata": {},
   "outputs": [
    {
     "name": "stdout",
     "output_type": "stream",
     "text": [
      "2459249.106688459 1\n",
      "2459250.059417007 1\n",
      "2459253.09286689 2\n",
      "2459260.125596199 2\n",
      "2459261.0190041875 2\n",
      "2459262.111134746 1\n",
      "2459266.950185211 2\n",
      "2459268.1099689654 1\n",
      "2459270.084943889 2\n",
      "2459271.0654437374 1\n",
      "2459276.1148567637 1\n",
      "2459280.026814646 2\n",
      "2459281.1220216947 1\n",
      "2459289.059139398 1\n",
      "2459291.137326309 1\n",
      "2459293.0679493668 1\n",
      "2459295.0775366384 1\n",
      "2459297.070549879 1\n",
      "2459299.0796948383 1\n",
      "2459302.0698245405 1\n",
      "2459304.1239861357 1\n",
      "2459307.077082991 2\n",
      "2459308.127139249 1\n",
      "2459313.1389600346 1\n",
      "2459313.8816464585 2\n",
      "2459320.8061936377 1\n",
      "2459321.8260970474 2\n",
      "2459324.8235150143 2\n",
      "2459326.1029022182 1\n",
      "2459326.7806885336 2\n",
      "2459328.063117215 1\n",
      "2459328.987803917 2\n",
      "2459332.06854561 1\n",
      "2459333.0030463687 2\n",
      "2459334.769926875 1\n",
      "2459336.964664036 2\n",
      "2459337.9560520076 2\n",
      "2459339.084497761 1\n",
      "2459340.7990041072 1\n",
      "2459347.7741028676 1\n",
      "2459348.7849066523 1\n",
      "2459350.0649792324 1\n",
      "2459350.771438949 1\n",
      "2459351.7908531507 1\n",
      "2459352.9619807624 2\n",
      "2459354.7755374103 1\n",
      "2459357.1155770943 1\n",
      "2459358.094146289 2\n",
      "2459359.086323545 1\n",
      "2459360.0443681367 1\n",
      "2459360.780567459 1\n",
      "2459362.0846117944 1\n",
      "2459363.0861548753 1\n",
      "2459363.7582882107 1\n",
      "2459364.825284251 1\n",
      "2459366.0777728837 2\n",
      "2459367.0116591067 2\n",
      "2459367.8135418436 1\n",
      "2459369.098510151 1\n",
      "2459369.8718242906 2\n"
     ]
    }
   ],
   "source": [
    "timestamps = []\n",
    "dates_observed = []\n",
    "f = open('timestamps_C.csv', 'w')\n",
    "date_groups = df[df['kpfcc']].groupby('utdate', as_index=False)\n",
    "for grp in date_groups:\n",
    "#     if np.random.uniform() > 0.50:  # 33% chance of observing on a given CC night\n",
    "#         continue\n",
    "    num = len(grp[1])\n",
    "    block = grp[1].sample(1)\n",
    "    date = block['utdate'].values[0]\n",
    "    if date not in dates_observed:\n",
    "        obs = Time(np.random.uniform(block.start_jd, block.stop_jd), format='jd')[0]\n",
    "        if keck.target_is_up(obs, target):\n",
    "            print(obs, num)\n",
    "            timestamps.append(obs)\n",
    "            dates_observed.append(date)\n",
    "            print(obs, file=f)\n",
    "        if len(timestamps) >= max_obs:\n",
    "            break\n",
    "\n",
    "\n",
    "f.close()\n",
    "    "
   ]
  },
  {
   "cell_type": "code",
   "execution_count": 12,
   "id": "423557b9",
   "metadata": {
    "scrolled": false
   },
   "outputs": [],
   "source": [
    "timestamps = []\n",
    "f = open('timestamps_A.csv', 'w')\n",
    "\n",
    "date_groups = df[df['kpfcc']].query('3 <= month <= 10')\\\n",
    "        .sort_values(by='utdate')\\\n",
    "            .groupby('utdate', as_index=False)\n",
    "random_dates = date_groups.sum().sample(10)['utdate'].values\n",
    "\n",
    "i = 0\n",
    "while len(timestamps) < max_obs:\n",
    "    for grp in date_groups:\n",
    "        ind = grp[0]\n",
    "        if ind not in random_dates:\n",
    "            continue\n",
    "        num = len(grp[1])\n",
    "        block = grp[1].sample(1)\n",
    "        date = block['utdate'].values[0]\n",
    "        start = \"{:s} {:s}\".format(date, block.start.values[0])\n",
    "        end = \"{:s} {:s}\".format(date, block.stop.values[0])\n",
    "        range = Time([start, end])\n",
    "        can_obs = is_observable(constraints, keck, target, range)[0]\n",
    "        tab = observability_table(constraints, keck, [target], range, time_grid_resolution=60*u.second)\n",
    "        obs = Time(np.random.uniform(block.start_jd, block.stop_jd), format='jd')[0] + 365*i\n",
    "        timestamps.append(obs)\n",
    "        timestamps.append(obs+600/86400)\n",
    "        timestamps.append(obs+1200/86400)\n",
    "        print(obs, file=f)\n",
    "        print(obs+600/86400, file=f)\n",
    "        print(obs+1200/86400, file=f)\n",
    "        if len(timestamps) >= max_obs:\n",
    "            break\n",
    "\n",
    "        \n",
    "#         frac = tab['fraction of time observable']\n",
    "#         hours_observable = ((range[1] - range[0]) * frac) * 24\n",
    "#         hours_observable = hours_observable[0]\n",
    "#         print(start, end, hours_observable)\n",
    "#         if can_obs and hours_observable >= 1:\n",
    "#             # print(obs, num, can_obs, hours_observable)\n",
    "#             timestamps.append(obs)\n",
    "#             print(obs, file=f)\n",
    "#         if len(timestamps) >= max_obs/3:\n",
    "#             break\n",
    "    i+=1\n",
    "\n",
    "f.close()"
   ]
  },
  {
   "cell_type": "code",
   "execution_count": 13,
   "id": "41725250",
   "metadata": {},
   "outputs": [
    {
     "name": "stderr",
     "output_type": "stream",
     "text": [
      "<ipython-input-13-d911b7d5a3c9>:21: UserWarning: FixedFormatter should only be used together with FixedLocator\n",
      "  ax.xaxis.set_ticklabels([x-2450000 for x in ax.get_xticks()])\n",
      "<ipython-input-13-d911b7d5a3c9>:21: UserWarning: FixedFormatter should only be used together with FixedLocator\n",
      "  ax.xaxis.set_ticklabels([x-2450000 for x in ax.get_xticks()])\n",
      "<ipython-input-13-d911b7d5a3c9>:21: UserWarning: FixedFormatter should only be used together with FixedLocator\n",
      "  ax.xaxis.set_ticklabels([x-2450000 for x in ax.get_xticks()])\n"
     ]
    },
    {
     "data": {
      "image/png": "[encoded data removed]",
      "text/plain": [
       "<Figure size 432x288 with 1 Axes>"
      ]
     },
     "metadata": {
      "needs_background": "light"
     },
     "output_type": "display_data"
    }
   ],
   "source": [
    "def jd2date(t):\n",
    "    return Time(t, format='jd').datetime\n",
    "\n",
    "def date2jd(t):\n",
    "    try:\n",
    "        time = Time(t, format='datetime').jd\n",
    "    except:\n",
    "        time = Time(2455565, format='jd')\n",
    "        pass\n",
    "    return time\n",
    "\n",
    "i = 0\n",
    "for fname in ['timestamps_A.csv', 'timestamps_B.csv', 'timestamps_C.csv']:\n",
    "# for fname in ['timestamps_A.csv']:\n",
    "    times = pd.read_csv(fname, header=None)\n",
    "    dts = [jd2date(t[0]) for t in times.values]\n",
    "    times = [date2jd(t) for t in dts]\n",
    "    pl.plot(times, np.zeros_like(times)+i, '+', label=fname)\n",
    "    ax = pl.gca()\n",
    "    ax.set_xlabel('JD - 2450000')\n",
    "    ax.xaxis.set_ticklabels([x-2450000 for x in ax.get_xticks()])\n",
    "    ax.yaxis.set_ticks([])\n",
    "    ax.set_xlim(Time('2021-01-01', format='iso').jd, Time('2022-12-31', format='iso').jd)\n",
    "    i -= 1\n",
    "\n",
    "\n",
    "# axyrs = ax.twiny()\n",
    "# xl = np.array(list(ax.get_xlim()))\n",
    "# pl.locator_params(axis='x', nbins=24)\n",
    "# start = 1\n",
    "# end = 24\n",
    "# axyrs.set_xlim(start, end)\n",
    "# months = [calendar.month_abbr[int(x)] for x in axyrs.get_xticks()] * 2\n",
    "# axyrs.xaxis.set_ticklabels(months)\n",
    "# axyrs.set_xlabel('Month', fontweight='bold')\n",
    "\n",
    "pl.tight_layout()\n",
    "pl.grid(True)\n",
    "legend = ax.legend()\n",
    "pl.savefig('observing_schedule.pdf')\n",
    "pl.show()\n"
   ]
  },
  {
   "cell_type": "code",
   "execution_count": 27,
   "id": "cc243762",
   "metadata": {},
   "outputs": [
    {
     "name": "stdout",
     "output_type": "stream",
     "text": [
      "[ True]\n",
      "[False]\n",
      "target name ever observable always observable fraction of time observable\n",
      "----------- --------------- ----------------- ---------------------------\n",
      "   HD155060            True             False                         0.5\n"
     ]
    }
   ],
   "source": [
    "start = \"{:s} {:s}\".format(block.utdate.values[0], block.start.values[0])\n",
    "end = \"{:s} {:s}\".format(block.utdate.values[0], block.stop.values[0])\n",
    "time_range = Time([start, end])\n",
    "print(is_observable(constraints, keck, target, time_range))\n",
    "print(is_always_observable(constraints, keck, target, time_range))\n",
    "print(observability_table(constraints, keck, [target], time_range))"
   ]
  },
  {
   "cell_type": "code",
   "execution_count": 34,
   "id": "738bf398",
   "metadata": {},
   "outputs": [
    {
     "name": "stderr",
     "output_type": "stream",
     "text": [
      "<ipython-input-34-960176e4d6cc>:1: MatplotlibDeprecationWarning: Passing the minor parameter of get_ticklocs() positionally is deprecated since Matplotlib 3.3; the parameter will become keyword-only two minor releases later.\n",
      "  axyrs.get_xticks([])\n"
     ]
    },
    {
     "data": {
      "text/plain": [
       "array([-0.06, -0.05, -0.04, -0.03, -0.02, -0.01,  0.  ,  0.01,  0.02,\n",
       "        0.03,  0.04,  0.05,  0.06])"
      ]
     },
     "execution_count": 34,
     "metadata": {},
     "output_type": "execute_result"
    }
   ],
   "source": [
    "axyrs.get_xticks([])"
   ]
  },
  {
   "cell_type": "code",
   "execution_count": 26,
   "id": "c563245e",
   "metadata": {},
   "outputs": [
    {
     "data": {
      "text/plain": [
       "array([9, 2, 1, 9, 3, 5, 6, 0, 3, 5])"
      ]
     },
     "execution_count": 26,
     "metadata": {},
     "output_type": "execute_result"
    }
   ],
   "source": [
    "np.random.choice(10, size=10)"
   ]
  },
  {
   "cell_type": "code",
   "execution_count": null,
   "id": "e8cf4610",
   "metadata": {},
   "outputs": [],
   "source": []
  },
  {
   "cell_type": "code",
   "execution_count": null,
   "id": "836c0756",
   "metadata": {},
   "outputs": [],
   "source": []
  }
 ],
 "metadata": {
  "interpreter": {
   "hash": "f03a80e608be7842e601eaf57f5b09fad8736b450ed14f8b12320f64d023db2c"
  },
  "kernelspec": {
   "display_name": "Python 3.8.5 64-bit ('base': conda)",
   "name": "python3"
  },
  "language_info": {
   "codemirror_mode": {
    "name": "ipython",
    "version": 3
   },
   "file_extension": ".py",
   "mimetype": "text/x-python",
   "name": "python",
   "nbconvert_exporter": "python",
   "pygments_lexer": "ipython3",
   "version": "3.8.5"
  }
 },
 "nbformat": 4,
 "nbformat_minor": 5
}
