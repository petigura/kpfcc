{
 "cells": [
  {
   "cell_type": "code",
   "execution_count": 51,
   "id": "deluxe-fraction",
   "metadata": {},
   "outputs": [
    {
     "name": "stdout",
     "output_type": "stream",
     "text": [
      "Populating the interactive namespace from numpy and matplotlib\n"
     ]
    }
   ],
   "source": [
    "import astropy\n",
    "from astropy.time import Time,TimezoneInfo\n",
    "from astropy import units as u\n",
    "import pandas as pd\n",
    "from astroplan import Observer\n",
    "%pylab inline"
   ]
  },
  {
   "cell_type": "code",
   "execution_count": 109,
   "id": "hydraulic-freeware",
   "metadata": {},
   "outputs": [
    {
     "name": "stderr",
     "output_type": "stream",
     "text": [
      "WARNING: Tried to get polar motions for times after IERS data is valid. Defaulting to polar motion from the 50-yr mean for those. This may affect precision at the arcsec level [astropy.coordinates.builtin_frames.utils]\n"
     ]
    }
   ],
   "source": [
    "t = Time('2022-01-1') + arange(365) * u.day\n",
    "df = pd.DataFrame(dict(utdate=t.to_value('iso','date')))\n",
    "keck = Observer.at_site(\"Keck\", timezone=\"US/Hawaii\")\n",
    "sunset = keck.sun_set_time(t,horizon=-12*u.deg,which='next')\n",
    "sunrise =  keck.sun_rise_time(t,horizon=-12*u.deg, which='next')\n",
    "nightlength = (sunrise - sunset)"
   ]
  },
  {
   "cell_type": "code",
   "execution_count": 174,
   "id": "refined-friend",
   "metadata": {},
   "outputs": [],
   "source": [
    "df2 = []\n",
    "for i in range(1,5):\n",
    "    df = pd.DataFrame(dict(utdate=t.to_value('iso','date')))\n",
    "    df['quarter'] = i\n",
    "    start = sunset + (i-1) / 4.0 * nightlength\n",
    "    stop = sunset +  i / 4.0 * nightlength  \n",
    "    df['start_jd'] =  start.jd\n",
    "    df['start'] = pd.Series(start.to_value('iso','date_hm')).str.slice(start=11,stop=16)\n",
    "    df['stop'] = pd.Series(stop.to_value('iso','date_hm')).str.slice(start=11,stop=16)\n",
    "    df2.append(df)\n",
    "\n",
    "df = pd.concat(df2)\n",
    "df = df.sort_values(by=['start_jd'])\n",
    "df = df.reset_index()\n",
    "df['kpfcc'] = False\n",
    "\n",
    "df_remain = df.copy()\n",
    "rs = 0 \n",
    "nquarters = 365 \n",
    "\n",
    "# schedule first quarters\n",
    "dates = df_remain.utdate.drop_duplicates().sample(int(0.25 * nquarters))\n",
    "df.loc[df.utdate.isin(dates) & (df.quarter==1),'kpfcc'] = True\n",
    "df_remain = df_remain[~df_remain.utdate.isin(dates)]\n",
    "\n",
    "# schedule last quarters\n",
    "dates = df_remain.utdate.drop_duplicates().sample(int(0.25 * nquarters))\n",
    "df.loc[df.utdate.isin(dates) & (df.quarter==4),'kpfcc'] = True\n",
    "df_remain = df_remain[~df_remain.utdate.isin(dates)]\n",
    "\n",
    "# schedule first/last quarters\n",
    "dates = df_remain.utdate.drop_duplicates().sample(int(0.25 * nquarters))\n",
    "df.loc[df.utdate.isin(dates) & ((df.quarter==4) | (df.quarter==1)),'kpfcc'] = True\n",
    "df_remain = df_remain[~df_remain.utdate.isin(dates)]\n",
    "\n",
    "df.to_csv('kpfcc_schedule_v1.csv')"
   ]
  },
  {
   "cell_type": "code",
   "execution_count": 175,
   "id": "elegant-greek",
   "metadata": {},
   "outputs": [
    {
     "data": {
      "text/plain": [
       "(array([ 92.,   0.,   0.,   0.,   0., 182.,   0.,   0.,   0.,  91.]),\n",
       " array([0. , 0.2, 0.4, 0.6, 0.8, 1. , 1.2, 1.4, 1.6, 1.8, 2. ]),\n",
       " <BarContainer object of 10 artists>)"
      ]
     },
     "execution_count": 175,
     "metadata": {},
     "output_type": "execute_result"
    },
    {
     "data": {
      "image/png": "[encoded data removed]",
      "text/plain": [
       "<Figure size 432x288 with 1 Axes>"
      ]
     },
     "metadata": {
      "needs_background": "light"
     },
     "output_type": "display_data"
    }
   ],
   "source": [
    "hist(df.groupby('utdate').kpfcc.sum())"
   ]
  },
  {
   "cell_type": "code",
   "execution_count": 176,
   "id": "elegant-utilization",
   "metadata": {},
   "outputs": [
    {
     "data": {
      "text/plain": [
       "[<matplotlib.lines.Line2D at 0x7ff6819332e0>]"
      ]
     },
     "execution_count": 176,
     "metadata": {},
     "output_type": "execute_result"
    },
    {
     "data": {
      "image/png": "[encoded data removed]",
      "text/plain": [
       "<Figure size 432x288 with 1 Axes>"
      ]
     },
     "metadata": {
      "needs_background": "light"
     },
     "output_type": "display_data"
    }
   ],
   "source": [
    "plot(df.start_jd,df.quarter,'.')\n",
    "plot(df[df.kpfcc].start_jd,df[df.kpfcc].quarter,'.')"
   ]
  },
  {
   "cell_type": "code",
   "execution_count": null,
   "id": "refined-memorabilia",
   "metadata": {},
   "outputs": [],
   "source": []
  }
 ],
 "metadata": {
  "kernelspec": {
   "display_name": "Python 3",
   "language": "python",
   "name": "python3"
  },
  "language_info": {
   "codemirror_mode": {
    "name": "ipython",
    "version": 3
   },
   "file_extension": ".py",
   "mimetype": "text/x-python",
   "name": "python",
   "nbconvert_exporter": "python",
   "pygments_lexer": "ipython3",
   "version": "3.9.2"
  }
 },
 "nbformat": 4,
 "nbformat_minor": 5
}
